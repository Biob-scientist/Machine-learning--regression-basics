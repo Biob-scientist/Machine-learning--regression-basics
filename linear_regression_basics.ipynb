{
 "cells": [
  {
   "cell_type": "markdown",
   "id": "9f95c3c4",
   "metadata": {},
   "source": [
    "# The Basics of Linear Regression\n",
    "This notebook covers the fundamentals of linear regression in machine learning. In this project we look at the following:\n",
    "- Data Preparation\n",
    "- Split Dataset for Machine Learning\n",
    "- Train the model\n",
    "- compute the mean square error\n",
    "- Compute the $R^2$ \n",
    "\n",
    "\n",
    "We will go ahead by importing the neccessary python libraries. Because this covers the fundamentals, we will not be using sicit-learn, rather we will code directly using the normal equation \n",
    "\n",
    "## About the data set\n",
    "We are going to be using a car data set. it has the following features\n",
    "\n",
    "- `Make`: Manufacturer/brand of the vehicle.\n",
    "\n",
    "- `Model`: Specific vehicle model name.\n",
    "\n",
    "- `Year`: Year the vehicle was manufactured.\n",
    "\n",
    "- `Engine Fuel Type`: Type of fuel used by the vehicle’s engine.\n",
    "\n",
    "- `Engine HP`: Horsepower of the engine (measure of power).\n",
    "\n",
    "- `Engine Cylinders`: Number of cylinders in the engine.\n",
    "\n",
    "- `Transmission Type`: Type of transmission system.\n",
    "\n",
    "- `Driven_Wheels`: Which wheels receive engine power (drive configuration).\n",
    "\n",
    "- `Number of Doors`: Total number of doors on the vehicle.\n",
    "\n",
    "- `Market Category`: Marketing classification of the car (often multiple categories).\n",
    "\n",
    "- `Vehicle Size`: Size classification of the vehicle.\n",
    "\n",
    "- `Vehicle Style`: Style or body type of the vehicle.\n",
    "\n",
    "- `Highway MPG`: Fuel efficiency in miles per gallon on highways.\n",
    "\n",
    "- `City MPG`: Fuel efficiency in miles per gallon in city driving.\n",
    "\n",
    "- `Popularity`: Popularity score (measured by dataset provider, usually sales-based).\n",
    "\n",
    "- `MSRP`: Manufacturer’s Suggested Retail Price (vehicle price at release, USD).\n"
   ]
  },
  {
   "cell_type": "code",
   "execution_count": 1,
   "id": "0e1040b4",
   "metadata": {},
   "outputs": [],
   "source": [
    "import numpy as np \n",
    "import pandas as pd \n",
    "import matplotlib.pyplot as plt \n",
    "import seaborn as sns"
   ]
  },
  {
   "cell_type": "code",
   "execution_count": 2,
   "id": "e7b9bde6",
   "metadata": {},
   "outputs": [
    {
     "data": {
      "text/html": [
       "<div>\n",
       "<style scoped>\n",
       "    .dataframe tbody tr th:only-of-type {\n",
       "        vertical-align: middle;\n",
       "    }\n",
       "\n",
       "    .dataframe tbody tr th {\n",
       "        vertical-align: top;\n",
       "    }\n",
       "\n",
       "    .dataframe thead th {\n",
       "        text-align: right;\n",
       "    }\n",
       "</style>\n",
       "<table border=\"1\" class=\"dataframe\">\n",
       "  <thead>\n",
       "    <tr style=\"text-align: right;\">\n",
       "      <th></th>\n",
       "      <th>Make</th>\n",
       "      <th>Model</th>\n",
       "      <th>Year</th>\n",
       "      <th>Engine Fuel Type</th>\n",
       "      <th>Engine HP</th>\n",
       "      <th>Engine Cylinders</th>\n",
       "      <th>Transmission Type</th>\n",
       "      <th>Driven_Wheels</th>\n",
       "      <th>Number of Doors</th>\n",
       "      <th>Market Category</th>\n",
       "      <th>Vehicle Size</th>\n",
       "      <th>Vehicle Style</th>\n",
       "      <th>highway MPG</th>\n",
       "      <th>city mpg</th>\n",
       "      <th>Popularity</th>\n",
       "      <th>MSRP</th>\n",
       "    </tr>\n",
       "  </thead>\n",
       "  <tbody>\n",
       "    <tr>\n",
       "      <th>0</th>\n",
       "      <td>BMW</td>\n",
       "      <td>1 Series M</td>\n",
       "      <td>2011</td>\n",
       "      <td>premium unleaded (required)</td>\n",
       "      <td>335.0</td>\n",
       "      <td>6.0</td>\n",
       "      <td>MANUAL</td>\n",
       "      <td>rear wheel drive</td>\n",
       "      <td>2.0</td>\n",
       "      <td>Factory Tuner,Luxury,High-Performance</td>\n",
       "      <td>Compact</td>\n",
       "      <td>Coupe</td>\n",
       "      <td>26</td>\n",
       "      <td>19</td>\n",
       "      <td>3916</td>\n",
       "      <td>46135</td>\n",
       "    </tr>\n",
       "    <tr>\n",
       "      <th>1</th>\n",
       "      <td>BMW</td>\n",
       "      <td>1 Series</td>\n",
       "      <td>2011</td>\n",
       "      <td>premium unleaded (required)</td>\n",
       "      <td>300.0</td>\n",
       "      <td>6.0</td>\n",
       "      <td>MANUAL</td>\n",
       "      <td>rear wheel drive</td>\n",
       "      <td>2.0</td>\n",
       "      <td>Luxury,Performance</td>\n",
       "      <td>Compact</td>\n",
       "      <td>Convertible</td>\n",
       "      <td>28</td>\n",
       "      <td>19</td>\n",
       "      <td>3916</td>\n",
       "      <td>40650</td>\n",
       "    </tr>\n",
       "  </tbody>\n",
       "</table>\n",
       "</div>"
      ],
      "text/plain": [
       "  Make       Model  Year             Engine Fuel Type  Engine HP  \\\n",
       "0  BMW  1 Series M  2011  premium unleaded (required)      335.0   \n",
       "1  BMW    1 Series  2011  premium unleaded (required)      300.0   \n",
       "\n",
       "   Engine Cylinders Transmission Type     Driven_Wheels  Number of Doors  \\\n",
       "0               6.0            MANUAL  rear wheel drive              2.0   \n",
       "1               6.0            MANUAL  rear wheel drive              2.0   \n",
       "\n",
       "                         Market Category Vehicle Size Vehicle Style  \\\n",
       "0  Factory Tuner,Luxury,High-Performance      Compact         Coupe   \n",
       "1                     Luxury,Performance      Compact   Convertible   \n",
       "\n",
       "   highway MPG  city mpg  Popularity   MSRP  \n",
       "0           26        19        3916  46135  \n",
       "1           28        19        3916  40650  "
      ]
     },
     "execution_count": 2,
     "metadata": {},
     "output_type": "execute_result"
    }
   ],
   "source": [
    "df=pd.read_csv(\"data/car_sales.csv\")\n",
    "df.head(2)"
   ]
  },
  {
   "cell_type": "markdown",
   "id": "249a7b19",
   "metadata": {},
   "source": [
    "Data assessments"
   ]
  },
  {
   "cell_type": "code",
   "execution_count": 3,
   "id": "f028843a",
   "metadata": {},
   "outputs": [
    {
     "name": "stdout",
     "output_type": "stream",
     "text": [
      "The data shape (11914, 16)\n",
      "<class 'pandas.core.frame.DataFrame'>\n",
      "RangeIndex: 11914 entries, 0 to 11913\n",
      "Data columns (total 16 columns):\n",
      " #   Column             Non-Null Count  Dtype  \n",
      "---  ------             --------------  -----  \n",
      " 0   Make               11914 non-null  object \n",
      " 1   Model              11914 non-null  object \n",
      " 2   Year               11914 non-null  int64  \n",
      " 3   Engine Fuel Type   11911 non-null  object \n",
      " 4   Engine HP          11845 non-null  float64\n",
      " 5   Engine Cylinders   11884 non-null  float64\n",
      " 6   Transmission Type  11914 non-null  object \n",
      " 7   Driven_Wheels      11914 non-null  object \n",
      " 8   Number of Doors    11908 non-null  float64\n",
      " 9   Market Category    8172 non-null   object \n",
      " 10  Vehicle Size       11914 non-null  object \n",
      " 11  Vehicle Style      11914 non-null  object \n",
      " 12  highway MPG        11914 non-null  int64  \n",
      " 13  city mpg           11914 non-null  int64  \n",
      " 14  Popularity         11914 non-null  int64  \n",
      " 15  MSRP               11914 non-null  int64  \n",
      "dtypes: float64(3), int64(5), object(8)\n",
      "memory usage: 1.5+ MB\n"
     ]
    }
   ],
   "source": [
    "print(\"The data shape\",df.shape)\n",
    "df.info()"
   ]
  },
  {
   "cell_type": "code",
   "execution_count": 4,
   "id": "052eda5d",
   "metadata": {},
   "outputs": [
    {
     "data": {
      "text/plain": [
       "Engine Fuel Type       3\n",
       "Engine HP             69\n",
       "Engine Cylinders      30\n",
       "Number of Doors        6\n",
       "Market Category     3742\n",
       "dtype: int64"
      ]
     },
     "execution_count": 4,
     "metadata": {},
     "output_type": "execute_result"
    }
   ],
   "source": [
    "# Check for fileds that contain missing values\n",
    "df_na=df.isnull().sum()\n",
    "df_na[df_na>0]\n"
   ]
  },
  {
   "cell_type": "code",
   "execution_count": 5,
   "id": "73f1e4f6",
   "metadata": {},
   "outputs": [
    {
     "data": {
      "text/plain": [
       "Make                 object\n",
       "Model                object\n",
       "Engine Fuel Type     object\n",
       "Transmission Type    object\n",
       "Driven_Wheels        object\n",
       "Market Category      object\n",
       "Vehicle Size         object\n",
       "Vehicle Style        object\n",
       "dtype: object"
      ]
     },
     "execution_count": 5,
     "metadata": {},
     "output_type": "execute_result"
    }
   ],
   "source": [
    "df.dtypes[df.dtypes=='object']"
   ]
  },
  {
   "cell_type": "markdown",
   "id": "c3a8823e",
   "metadata": {},
   "source": [
    "# Data Wrangling\n",
    "**Observations**\n",
    "- inconsistent colum names\n",
    "- Some fields contains missing values\n",
    "\n",
    "**Action**\n",
    "- convert fields snake_case\n",
    "- fill missing values with 0. (0 in this case means the field is not present as we attempt to train our model) \n",
    "- Split dataframe into training (60%),test (20%) and validation set (20%)\n",
    "- create a function that prepare the data\n",
    "\n",
    "**Optional Objective**\n",
    "We'll be creating a function that prepares our dataframe, this way the originality of the dataframe is preservedPlan\n"
   ]
  },
  {
   "cell_type": "code",
   "execution_count": 6,
   "id": "1a543183",
   "metadata": {},
   "outputs": [
    {
     "data": {
      "text/plain": [
       "Index(['make', 'model', 'year', 'engine_fuel_type', 'engine_hp',\n",
       "       'engine_cylinders', 'transmission_type', 'driven_wheels',\n",
       "       'number_of_doors', 'market_category', 'vehicle_size', 'vehicle_style',\n",
       "       'highway_mpg', 'city_mpg', 'popularity', 'msrp'],\n",
       "      dtype='object')"
      ]
     },
     "execution_count": 6,
     "metadata": {},
     "output_type": "execute_result"
    }
   ],
   "source": [
    "# rename columns\n",
    "df.columns=df.columns.str.lower().str.replace(' ', '_')\n",
    "df.columns"
   ]
  },
  {
   "cell_type": "code",
   "execution_count": 7,
   "id": "4dac96e8",
   "metadata": {},
   "outputs": [
    {
     "data": {
      "text/html": [
       "<div>\n",
       "<style scoped>\n",
       "    .dataframe tbody tr th:only-of-type {\n",
       "        vertical-align: middle;\n",
       "    }\n",
       "\n",
       "    .dataframe tbody tr th {\n",
       "        vertical-align: top;\n",
       "    }\n",
       "\n",
       "    .dataframe thead th {\n",
       "        text-align: right;\n",
       "    }\n",
       "</style>\n",
       "<table border=\"1\" class=\"dataframe\">\n",
       "  <thead>\n",
       "    <tr style=\"text-align: right;\">\n",
       "      <th></th>\n",
       "      <th>make</th>\n",
       "      <th>model</th>\n",
       "      <th>year</th>\n",
       "      <th>engine_fuel_type</th>\n",
       "      <th>engine_hp</th>\n",
       "      <th>engine_cylinders</th>\n",
       "      <th>transmission_type</th>\n",
       "      <th>driven_wheels</th>\n",
       "      <th>number_of_doors</th>\n",
       "      <th>market_category</th>\n",
       "      <th>vehicle_size</th>\n",
       "      <th>vehicle_style</th>\n",
       "      <th>highway_mpg</th>\n",
       "      <th>city_mpg</th>\n",
       "      <th>popularity</th>\n",
       "      <th>msrp</th>\n",
       "    </tr>\n",
       "  </thead>\n",
       "  <tbody>\n",
       "    <tr>\n",
       "      <th>0</th>\n",
       "      <td>bmw</td>\n",
       "      <td>1_series_m</td>\n",
       "      <td>2011</td>\n",
       "      <td>premium_unleaded_(required)</td>\n",
       "      <td>335.0</td>\n",
       "      <td>6.0</td>\n",
       "      <td>manual</td>\n",
       "      <td>rear_wheel_drive</td>\n",
       "      <td>2.0</td>\n",
       "      <td>factory_tuner,luxury,high-performance</td>\n",
       "      <td>compact</td>\n",
       "      <td>coupe</td>\n",
       "      <td>26</td>\n",
       "      <td>19</td>\n",
       "      <td>3916</td>\n",
       "      <td>46135</td>\n",
       "    </tr>\n",
       "    <tr>\n",
       "      <th>1</th>\n",
       "      <td>bmw</td>\n",
       "      <td>1_series</td>\n",
       "      <td>2011</td>\n",
       "      <td>premium_unleaded_(required)</td>\n",
       "      <td>300.0</td>\n",
       "      <td>6.0</td>\n",
       "      <td>manual</td>\n",
       "      <td>rear_wheel_drive</td>\n",
       "      <td>2.0</td>\n",
       "      <td>luxury,performance</td>\n",
       "      <td>compact</td>\n",
       "      <td>convertible</td>\n",
       "      <td>28</td>\n",
       "      <td>19</td>\n",
       "      <td>3916</td>\n",
       "      <td>40650</td>\n",
       "    </tr>\n",
       "    <tr>\n",
       "      <th>2</th>\n",
       "      <td>bmw</td>\n",
       "      <td>1_series</td>\n",
       "      <td>2011</td>\n",
       "      <td>premium_unleaded_(required)</td>\n",
       "      <td>300.0</td>\n",
       "      <td>6.0</td>\n",
       "      <td>manual</td>\n",
       "      <td>rear_wheel_drive</td>\n",
       "      <td>2.0</td>\n",
       "      <td>luxury,high-performance</td>\n",
       "      <td>compact</td>\n",
       "      <td>coupe</td>\n",
       "      <td>28</td>\n",
       "      <td>20</td>\n",
       "      <td>3916</td>\n",
       "      <td>36350</td>\n",
       "    </tr>\n",
       "    <tr>\n",
       "      <th>3</th>\n",
       "      <td>bmw</td>\n",
       "      <td>1_series</td>\n",
       "      <td>2011</td>\n",
       "      <td>premium_unleaded_(required)</td>\n",
       "      <td>230.0</td>\n",
       "      <td>6.0</td>\n",
       "      <td>manual</td>\n",
       "      <td>rear_wheel_drive</td>\n",
       "      <td>2.0</td>\n",
       "      <td>luxury,performance</td>\n",
       "      <td>compact</td>\n",
       "      <td>coupe</td>\n",
       "      <td>28</td>\n",
       "      <td>18</td>\n",
       "      <td>3916</td>\n",
       "      <td>29450</td>\n",
       "    </tr>\n",
       "    <tr>\n",
       "      <th>4</th>\n",
       "      <td>bmw</td>\n",
       "      <td>1_series</td>\n",
       "      <td>2011</td>\n",
       "      <td>premium_unleaded_(required)</td>\n",
       "      <td>230.0</td>\n",
       "      <td>6.0</td>\n",
       "      <td>manual</td>\n",
       "      <td>rear_wheel_drive</td>\n",
       "      <td>2.0</td>\n",
       "      <td>luxury</td>\n",
       "      <td>compact</td>\n",
       "      <td>convertible</td>\n",
       "      <td>28</td>\n",
       "      <td>18</td>\n",
       "      <td>3916</td>\n",
       "      <td>34500</td>\n",
       "    </tr>\n",
       "  </tbody>\n",
       "</table>\n",
       "</div>"
      ],
      "text/plain": [
       "  make       model  year             engine_fuel_type  engine_hp  \\\n",
       "0  bmw  1_series_m  2011  premium_unleaded_(required)      335.0   \n",
       "1  bmw    1_series  2011  premium_unleaded_(required)      300.0   \n",
       "2  bmw    1_series  2011  premium_unleaded_(required)      300.0   \n",
       "3  bmw    1_series  2011  premium_unleaded_(required)      230.0   \n",
       "4  bmw    1_series  2011  premium_unleaded_(required)      230.0   \n",
       "\n",
       "   engine_cylinders transmission_type     driven_wheels  number_of_doors  \\\n",
       "0               6.0            manual  rear_wheel_drive              2.0   \n",
       "1               6.0            manual  rear_wheel_drive              2.0   \n",
       "2               6.0            manual  rear_wheel_drive              2.0   \n",
       "3               6.0            manual  rear_wheel_drive              2.0   \n",
       "4               6.0            manual  rear_wheel_drive              2.0   \n",
       "\n",
       "                         market_category vehicle_size vehicle_style  \\\n",
       "0  factory_tuner,luxury,high-performance      compact         coupe   \n",
       "1                     luxury,performance      compact   convertible   \n",
       "2                luxury,high-performance      compact         coupe   \n",
       "3                     luxury,performance      compact         coupe   \n",
       "4                                 luxury      compact   convertible   \n",
       "\n",
       "   highway_mpg  city_mpg  popularity   msrp  \n",
       "0           26        19        3916  46135  \n",
       "1           28        19        3916  40650  \n",
       "2           28        20        3916  36350  \n",
       "3           28        18        3916  29450  \n",
       "4           28        18        3916  34500  "
      ]
     },
     "execution_count": 7,
     "metadata": {},
     "output_type": "execute_result"
    }
   ],
   "source": [
    "# Nomalize the  strings in the dataframe\n",
    "string_cols=list(df.dtypes[df.dtypes=='object'].index)\n",
    "for col in string_cols:\n",
    "  df[col]=df[col].str.lower().str.replace(' ', '_')\n",
    "df.head()"
   ]
  },
  {
   "cell_type": "code",
   "execution_count": 8,
   "id": "02f7a71d",
   "metadata": {},
   "outputs": [
    {
     "data": {
      "image/png": "[encoded data removed]",
      "text/plain": [
       "<Figure size 640x480 with 1 Axes>"
      ]
     },
     "metadata": {},
     "output_type": "display_data"
    }
   ],
   "source": [
    "# Assess the distribution of the dependent variable, msrp \n",
    "sns.histplot(df.msrp);"
   ]
  },
  {
   "cell_type": "markdown",
   "id": "b0859c8a",
   "metadata": {},
   "source": [
    "> It seems the majority of the data is concentrated betwen $0.0e^6$ and $0.5e^6$\n",
    "> We'll limit the data to about $1.0e^6$ for clearer view of the distribution. However, it can be observed that the data is right skewed"
   ]
  },
  {
   "cell_type": "code",
   "execution_count": 9,
   "id": "0db44804",
   "metadata": {},
   "outputs": [
    {
     "data": {
      "image/png": "[encoded data removed]",
      "text/plain": [
       "<Figure size 640x480 with 1 Axes>"
      ]
     },
     "metadata": {},
     "output_type": "display_data"
    }
   ],
   "source": [
    "sns.histplot(df.msrp[df.msrp<100000]);"
   ]
  },
  {
   "cell_type": "code",
   "execution_count": 10,
   "id": "081e61db",
   "metadata": {},
   "outputs": [
    {
     "data": {
      "image/png": "[encoded data removed]",
      "text/plain": [
       "<Figure size 640x480 with 1 Axes>"
      ]
     },
     "metadata": {},
     "output_type": "display_data"
    }
   ],
   "source": [
    "# scale the price\n",
    "sns.histplot(np.log1p(df.msrp));"
   ]
  },
  {
   "cell_type": "markdown",
   "id": "71a31848",
   "metadata": {},
   "source": [
    "# Train, Test and Validation data set set up"
   ]
  },
  {
   "cell_type": "code",
   "execution_count": 11,
   "id": "3d794852",
   "metadata": {},
   "outputs": [
    {
     "name": "stdout",
     "output_type": "stream",
     "text": [
      "7150 2382 2382\n"
     ]
    }
   ],
   "source": [
    "# validation framework\n",
    "n=  len(df) # total number of records\n",
    "n_val=int(n*0.2) # validation set of total\n",
    "n_test=int(n*0.2) # test set of total\n",
    "n_train=n-n_val-n_test #training set of total\n",
    "\n",
    "print(n_train,n_val,n_test)\n",
    "\n",
    "# Test if any set is out of range\n",
    "assert((n_train+n_val+n_test)==n)"
   ]
  },
  {
   "cell_type": "code",
   "execution_count": 22,
   "id": "7b0b33f2",
   "metadata": {},
   "outputs": [],
   "source": [
    "# shuffule dataframe to minimize bias\n",
    "idx=np.arange(n)\n",
    "np.random.seed(2)\n",
    "np.random.shuffle(idx)\n",
    "df2=df.iloc[idx] # shuffled dataframe\n",
    "\n",
    "#split data\n",
    "df_val=df2.iloc[:n_val]\n",
    "df_test=df2.iloc[n_val:n_val+n_test] \n",
    "df_train=df2.iloc[n_val+n_test:]\n",
    "\n",
    "assert (n_train,n_val,n_test)==(len(df_train),len(df_val),len(df_test))"
   ]
  },
  {
   "cell_type": "code",
   "execution_count": 23,
   "id": "d94bfad8",
   "metadata": {},
   "outputs": [],
   "source": [
    "# reset index\n",
    "df_train.reset_index(drop=True,inplace=True)\n",
    "df_val.reset_index(drop=True,inplace=True)\n",
    "df_test.reset_index(drop=True,inplace=True)\n",
    "\n",
    "#set up dependent variable y\n",
    "y_val=np.log1p(df_val.msrp.values)\n",
    "y_test=np.log1p(df_test.msrp.values)\n",
    "y_train=np.log1p(df_train.msrp.values)"
   ]
  },
  {
   "cell_type": "markdown",
   "id": "a797cc4e",
   "metadata": {},
   "source": [
    "# **Linear Regression**\n",
    "\n",
    "$$g(x_i)=W_0 +W_1x_1+W_2x_2+W_3x_3...W_nx_n$$\n",
    "\n",
    "$$g(x_i)=W_0+\\sum_{j=1}^nW_jx_j$$\n",
    "\n",
    "$$g(x_i)= W_0 +x_i^T.W$$"
   ]
  },
  {
   "cell_type": "markdown",
   "id": "2340e1d2",
   "metadata": {},
   "source": [
    "$$ W=(X^TX)^{-1}X^Ty$$"
   ]
  },
  {
   "cell_type": "code",
   "execution_count": 24,
   "id": "e292494c",
   "metadata": {},
   "outputs": [],
   "source": [
    "# Linear regression\n",
    "def linear_regression(X,y):\n",
    "  ones=np.ones(X.shape[0])\n",
    "  X=np.column_stack([ones,X])\n",
    "  XTX=X.T.dot(X)\n",
    "  XTX_inv=np.linalg.inv(XTX)\n",
    "  w_full=XTX_inv.dot(X.T).dot(y)\n",
    "  return w_full[0],w_full[1:]"
   ]
  },
  {
   "cell_type": "code",
   "execution_count": 25,
   "id": "0d684b40",
   "metadata": {},
   "outputs": [],
   "source": [
    "def prepare_X(df):\n",
    "  df=df.copy()\n",
    "  df['age']=2017-df.year\n",
    "  base=['engine_hp','engine_cylinders','highway_mpg', 'city_mpg', 'popularity']\n",
    "\n",
    "  features=base.copy()\n",
    "  features.append('age')\n",
    "  for v in [2,3,4]:\n",
    "    df['num_doors_%s' %v]=(df.number_of_doors==v).astype(int)\n",
    "    features.append('num_doors_%s' %v)\n",
    "\n",
    "  df_num=df[features]\n",
    "  df_num=df_num.fillna(0)\n",
    "  X=df_num.values\n",
    "  return X"
   ]
  },
  {
   "cell_type": "code",
   "execution_count": 26,
   "id": "a966249a",
   "metadata": {},
   "outputs": [],
   "source": [
    "# create independent variables of respective set\n",
    "X_train=prepare_X(df_train)\n",
    "X_test=prepare_X(df_test)\n",
    "X_val=prepare_X(df_val)"
   ]
  },
  {
   "cell_type": "code",
   "execution_count": 27,
   "id": "7d449bdb",
   "metadata": {},
   "outputs": [
    {
     "name": "stdout",
     "output_type": "stream",
     "text": [
      "10.577718992879094 [ 3.59716199e-03  8.11053037e-02 -3.86669708e-03  1.08693520e-02\n",
      " -4.47346439e-05 -9.34763472e-02 -1.18925728e+00 -1.40361268e+00\n",
      " -1.23993383e+00]\n"
     ]
    }
   ],
   "source": [
    "# obtain the optimum weights of constants\n",
    "w0,w=linear_regression(X_train,y_train)\n",
    "\n",
    "\n",
    "print(w0,w)\n",
    "# predict price\n",
    "y_pred=w0+ X_train.dot(w)"
   ]
  },
  {
   "cell_type": "code",
   "execution_count": 28,
   "id": "dab44d09",
   "metadata": {},
   "outputs": [
    {
     "data": {
      "image/png": "[encoded data removed]",
      "text/plain": [
       "<Figure size 640x480 with 1 Axes>"
      ]
     },
     "metadata": {},
     "output_type": "display_data"
    }
   ],
   "source": [
    "sns.histplot(y_pred,color='red',bins=50,alpha=0.5)\n",
    "sns.histplot(y_train,color='blue',bins=50,alpha=0.5)\n",
    "plt.show()"
   ]
  },
  {
   "cell_type": "markdown",
   "id": "faddf78e",
   "metadata": {},
   "source": [
    "$$RMSE=1/m\\sum_{j=1}^ng(x_i)-y_i$$"
   ]
  },
  {
   "cell_type": "code",
   "execution_count": 29,
   "id": "181c04ee",
   "metadata": {},
   "outputs": [
    {
     "data": {
      "text/plain": [
       "0.5119486369713488"
      ]
     },
     "execution_count": 29,
     "metadata": {},
     "output_type": "execute_result"
    }
   ],
   "source": [
    "def rmse(y,y_pred):\n",
    "  error=y-y_pred\n",
    "  se=error**2\n",
    "  mse=se.mean()\n",
    "  return np.sqrt(mse)\n",
    "\n",
    "\n",
    "rmse(y_train,y_pred)"
   ]
  },
  {
   "cell_type": "code",
   "execution_count": 30,
   "id": "8d877814",
   "metadata": {},
   "outputs": [
    {
     "data": {
      "text/plain": [
       "0.5188957899700228"
      ]
     },
     "execution_count": 30,
     "metadata": {},
     "output_type": "execute_result"
    }
   ],
   "source": [
    "X_val=prepare_X(df_val)\n",
    "w0,w=linear_regression(X_val,y_val)\n",
    "y_pred=w0+ X_val.dot(w)\n",
    "rmse(y_val,y_pred)"
   ]
  },
  {
   "cell_type": "code",
   "execution_count": 31,
   "id": "39c98a4d",
   "metadata": {},
   "outputs": [
    {
     "data": {
      "image/png": "[encoded data removed]",
      "text/plain": [
       "<Figure size 640x480 with 1 Axes>"
      ]
     },
     "metadata": {},
     "output_type": "display_data"
    }
   ],
   "source": [
    "sns.histplot(y_pred,color='red',bins=50,alpha=0.5)\n",
    "sns.histplot(y_val,color='blue',bins=50,alpha=0.5)\n",
    "plt.show()"
   ]
  },
  {
   "cell_type": "code",
   "execution_count": null,
   "id": "4588b03b",
   "metadata": {},
   "outputs": [],
   "source": []
  },
  {
   "cell_type": "code",
   "execution_count": null,
   "id": "fa60801a",
   "metadata": {},
   "outputs": [],
   "source": []
  },
  {
   "cell_type": "code",
   "execution_count": null,
   "id": "53ea5df9",
   "metadata": {},
   "outputs": [],
   "source": []
  }
 ],
 "metadata": {
  "kernelspec": {
   "display_name": "base",
   "language": "python",
   "name": "python3"
  },
  "language_info": {
   "codemirror_mode": {
    "name": "ipython",
    "version": 3
   },
   "file_extension": ".py",
   "mimetype": "text/x-python",
   "name": "python",
   "nbconvert_exporter": "python",
   "pygments_lexer": "ipython3",
   "version": "3.12.7"
  }
 },
 "nbformat": 4,
 "nbformat_minor": 5
}
